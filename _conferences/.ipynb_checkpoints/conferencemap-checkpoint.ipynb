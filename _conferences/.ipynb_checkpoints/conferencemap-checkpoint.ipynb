{
 "cells": [
  {
   "cell_type": "markdown",
   "metadata": {},
   "source": [
    "# Leaflet cluster map of talk locations\n",
    "\n",
    "Adapted from talkmap generator in academicpages.  Run this from the _conferences/ directory."
   ]
  },
  {
   "cell_type": "code",
   "execution_count": 5,
   "metadata": {},
   "outputs": [
    {
     "name": "stdout",
     "output_type": "stream",
     "text": [
      "Requirement already up-to-date: getorg in c:\\users\\ehast\\anaconda3\\lib\\site-packages (0.3.1)\n",
      "Requirement already satisfied, skipping upgrade: pygithub in c:\\users\\ehast\\anaconda3\\lib\\site-packages (from getorg) (1.43.7)\n",
      "Requirement already satisfied, skipping upgrade: retrying in c:\\users\\ehast\\anaconda3\\lib\\site-packages (from getorg) (1.3.3)\n",
      "Requirement already satisfied, skipping upgrade: geopy in c:\\users\\ehast\\anaconda3\\lib\\site-packages (from getorg) (1.20.0)\n",
      "Requirement already satisfied, skipping upgrade: deprecated in c:\\users\\ehast\\anaconda3\\lib\\site-packages (from pygithub->getorg) (1.2.6)\n",
      "Requirement already satisfied, skipping upgrade: requests>=2.14.0 in c:\\users\\ehast\\anaconda3\\lib\\site-packages (from pygithub->getorg) (2.18.4)\n",
      "Requirement already satisfied, skipping upgrade: pyjwt in c:\\users\\ehast\\anaconda3\\lib\\site-packages (from pygithub->getorg) (1.7.1)\n",
      "Requirement already satisfied, skipping upgrade: six>=1.7.0 in c:\\users\\ehast\\anaconda3\\lib\\site-packages (from retrying->getorg) (1.11.0)\n",
      "Requirement already satisfied, skipping upgrade: geographiclib<2,>=1.49 in c:\\users\\ehast\\anaconda3\\lib\\site-packages (from geopy->getorg) (1.49)\n",
      "Requirement already satisfied, skipping upgrade: wrapt<2,>=1.10 in c:\\users\\ehast\\anaconda3\\lib\\site-packages (from deprecated->pygithub->getorg) (1.10.11)\n",
      "Requirement already satisfied, skipping upgrade: chardet<3.1.0,>=3.0.2 in c:\\users\\ehast\\anaconda3\\lib\\site-packages (from requests>=2.14.0->pygithub->getorg) (3.0.4)\n",
      "Requirement already satisfied, skipping upgrade: idna<2.7,>=2.5 in c:\\users\\ehast\\anaconda3\\lib\\site-packages (from requests>=2.14.0->pygithub->getorg) (2.6)\n",
      "Requirement already satisfied, skipping upgrade: urllib3<1.23,>=1.21.1 in c:\\users\\ehast\\anaconda3\\lib\\site-packages (from requests>=2.14.0->pygithub->getorg) (1.22)\n",
      "Requirement already satisfied, skipping upgrade: certifi>=2017.4.17 in c:\\users\\ehast\\anaconda3\\lib\\site-packages (from requests>=2.14.0->pygithub->getorg) (2020.6.20)\n"
     ]
    },
    {
     "name": "stderr",
     "output_type": "stream",
     "text": [
      "You are using pip version 18.1, however version 20.2.2 is available.\n",
      "You should consider upgrading via the 'python -m pip install --upgrade pip' command.\n"
     ]
    }
   ],
   "source": [
    "!pip install getorg --upgrade\n",
    "import glob\n",
    "import getorg\n",
    "from geopy import Nominatim"
   ]
  },
  {
   "cell_type": "code",
   "execution_count": 6,
   "metadata": {},
   "outputs": [],
   "source": [
    "g = glob.glob(\"*.md\")"
   ]
  },
  {
   "cell_type": "code",
   "execution_count": 10,
   "metadata": {},
   "outputs": [],
   "source": [
    "geocoder = Nominatim(user_agent=\"my-application\")\n",
    "location_dict = {}\n",
    "location = \"\"\n",
    "permalink = \"\"\n",
    "title = \"\""
   ]
  },
  {
   "cell_type": "code",
   "execution_count": 13,
   "metadata": {},
   "outputs": [
    {
     "name": "stdout",
     "output_type": "stream",
     "text": [
      "Phoenix, AZ \n",
      " Phoenix, Maricopa County, Arizona, United States of America\n",
      "Omaha, NE \n",
      " Omaha, Douglas County, Nebraska, United States of America\n",
      "Urbana, IL \n",
      " Urbana, Champaign County, Illinois, 61801-9998, United States of America\n",
      "Denver, CO \n",
      " Denver, Denver County, Colorado, United States of America\n",
      "Urbana, IL \n",
      " Urbana, Champaign County, Illinois, 61801-9998, United States of America\n",
      "Jersey City, NJ \n",
      " Jersey City, Hudson County, New Jersey, United States of America\n",
      "Champaign, IL \n",
      " Champaign, Champaign County, Illinois, United States of America\n",
      "Champaign, IL \n",
      " Champaign, Champaign County, Illinois, United States of America\n"
     ]
    }
   ],
   "source": [
    "\n",
    "for file in g:\n",
    "    with open(file, 'r') as f:\n",
    "        lines = f.read()\n",
    "        if lines.find('location: \"') > 1:\n",
    "            loc_start = lines.find('location: \"') + 11\n",
    "            lines_trim = lines[loc_start:]\n",
    "            loc_end = lines_trim.find('\"')\n",
    "            location = lines_trim[:loc_end]\n",
    "                            \n",
    "           \n",
    "        location_dict[location] = geocoder.geocode(location, timeout=10)\n",
    "        print(location, \"\\n\", location_dict[location])\n"
   ]
  },
  {
   "cell_type": "code",
   "execution_count": 14,
   "metadata": {},
   "outputs": [
    {
     "data": {
      "text/plain": [
       "'Written map to ../conferencemap/'"
      ]
     },
     "execution_count": 14,
     "metadata": {},
     "output_type": "execute_result"
    }
   ],
   "source": [
    "m = getorg.orgmap.create_map_obj()\n",
    "getorg.orgmap.output_html_cluster_map(location_dict, folder_name=\"../conferencemap\", hashed_usernames=False)"
   ]
  }
 ],
 "metadata": {
  "anaconda-cloud": {},
  "kernelspec": {
   "display_name": "Python 3",
   "language": "python",
   "name": "python3"
  },
  "language_info": {
   "codemirror_mode": {
    "name": "ipython",
    "version": 3
   },
   "file_extension": ".py",
   "mimetype": "text/x-python",
   "name": "python",
   "nbconvert_exporter": "python",
   "pygments_lexer": "ipython3",
   "version": "3.6.5"
  }
 },
 "nbformat": 4,
 "nbformat_minor": 1
}
